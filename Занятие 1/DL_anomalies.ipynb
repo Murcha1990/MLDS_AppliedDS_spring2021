{
 "cells": [
  {
   "cell_type": "markdown",
   "metadata": {},
   "source": [
    "# Deep Anomaly Detection\n",
    "\n",
    "Обзор методов глубокого обучения для детектирования аномалий: https://habr.com/ru/post/530574/\n",
    "\n",
    "Ноутбук взят отсюда: https://github.com/evjeny/ood_detection_autoencoders\n",
    "\n",
    "В этом ноутбуке аномалии детектируются при помощи автокодировщиков."
   ]
  },
  {
   "cell_type": "markdown",
   "metadata": {
    "colab_type": "text",
    "id": "YcKaHGQ7eWi5"
   },
   "source": [
    "# prepare data"
   ]
  },
  {
   "cell_type": "code",
   "execution_count": null,
   "metadata": {
    "colab": {},
    "colab_type": "code",
    "id": "DoWWOpROXP40"
   },
   "outputs": [],
   "source": [
    "import os\n",
    "\n",
    "import numpy as np\n",
    "from sklearn.model_selection import train_test_split\n",
    "import matplotlib.pyplot as plt\n",
    "from matplotlib.colors import Normalize"
   ]
  },
  {
   "cell_type": "code",
   "execution_count": null,
   "metadata": {
    "colab": {},
    "colab_type": "code",
    "id": "8Fm7gYiiYMJW"
   },
   "outputs": [],
   "source": [
    "def gen_normal_distribution(mu, sigma, size, range=(0, 1), max_val=1):\n",
    "  bins = np.linspace(*range, size)\n",
    "  result = 1 / (sigma * np.sqrt(2*np.pi)) * np.exp(-(bins - mu)**2 / (2*sigma**2))\n",
    "\n",
    "  cur_max_val = result.max()\n",
    "  k = max_val / cur_max_val\n",
    "\n",
    "  result *= k\n",
    "\n",
    "  return result"
   ]
  },
  {
   "cell_type": "code",
   "execution_count": null,
   "metadata": {
    "colab": {},
    "colab_type": "code",
    "id": "rTX7czF5XYIW"
   },
   "outputs": [],
   "source": [
    "dist = gen_normal_distribution(0.3, 0.05, 256, max_val=1)"
   ]
  },
  {
   "cell_type": "code",
   "execution_count": null,
   "metadata": {
    "colab": {
     "base_uri": "https://localhost:8080/",
     "height": 34
    },
    "colab_type": "code",
    "id": "7dPpOZitZPOt",
    "outputId": "84ef8ff1-03b6-4bc3-d2de-aad0778087c9"
   },
   "outputs": [],
   "source": [
    "dist.max()"
   ]
  },
  {
   "cell_type": "code",
   "execution_count": null,
   "metadata": {
    "colab": {
     "base_uri": "https://localhost:8080/",
     "height": 282
    },
    "colab_type": "code",
    "id": "fOjdisrfXzyf",
    "outputId": "8ba102a2-31a2-498f-e30a-e68df1769305"
   },
   "outputs": [],
   "source": [
    "plt.plot(np.linspace(0, 1, 256), dist)"
   ]
  },
  {
   "cell_type": "code",
   "execution_count": null,
   "metadata": {
    "colab": {},
    "colab_type": "code",
    "id": "VddBU5fxZ-cN"
   },
   "outputs": [],
   "source": [
    "in_distribution_size = 2000\n",
    "out_distribution_size = 200\n",
    "val_size = 100\n",
    "sample_size = 256\n",
    "\n",
    "random_generator = np.random.RandomState(seed=42)"
   ]
  },
  {
   "cell_type": "code",
   "execution_count": null,
   "metadata": {
    "colab": {},
    "colab_type": "code",
    "id": "Ora_rvYnX8gf"
   },
   "outputs": [],
   "source": [
    "def generate_in_samples(size, sample_size):\n",
    "  global random_generator\n",
    "\n",
    "  in_samples = np.zeros((size, sample_size))\n",
    "\n",
    "  in_mus = random_generator.uniform(0.1, 0.9, size)\n",
    "  in_sigmas = random_generator.uniform(0.05, 0.5, size)\n",
    "\n",
    "  for i in range(size):\n",
    "    in_samples[i] = gen_normal_distribution(in_mus[i], in_sigmas[i], sample_size, max_val=1)\n",
    "  \n",
    "  return in_samples\n",
    "\n",
    "\n",
    "def generate_out_samples(size, sample_size):\n",
    "  global random_generator\n",
    "\n",
    "  out_samples = generate_in_samples(size, sample_size)\n",
    "\n",
    "  out_additional_mus = random_generator.uniform(0.1, 0.9, size)\n",
    "  out_additional_sigmas = random_generator.uniform(0.01, 0.05, size)\n",
    "\n",
    "  for i in range(size):\n",
    "    anomaly = gen_normal_distribution(out_additional_mus[i], out_additional_sigmas[i], sample_size, max_val=0.12)\n",
    "    out_samples[i] += anomaly\n",
    "  \n",
    "  return out_samples"
   ]
  },
  {
   "cell_type": "code",
   "execution_count": null,
   "metadata": {
    "colab": {},
    "colab_type": "code",
    "id": "-Q9zTayveX90"
   },
   "outputs": [],
   "source": [
    "in_samples = generate_in_samples(in_distribution_size, sample_size)"
   ]
  },
  {
   "cell_type": "code",
   "execution_count": null,
   "metadata": {
    "colab": {
     "base_uri": "https://localhost:8080/",
     "height": 282
    },
    "colab_type": "code",
    "id": "kn9tQCv4bOWX",
    "outputId": "7483fb0d-c132-490f-e268-36accc268d36"
   },
   "outputs": [],
   "source": [
    "plt.plot(np.linspace(0, 1, sample_size), in_samples[42])"
   ]
  },
  {
   "cell_type": "code",
   "execution_count": null,
   "metadata": {
    "colab": {},
    "colab_type": "code",
    "id": "sWN0kmsWrfZF"
   },
   "outputs": [],
   "source": [
    "out_samples = generate_out_samples(out_distribution_size, sample_size)"
   ]
  },
  {
   "cell_type": "code",
   "execution_count": null,
   "metadata": {
    "colab": {
     "base_uri": "https://localhost:8080/",
     "height": 282
    },
    "colab_type": "code",
    "id": "Z4LN4m6WeHDq",
    "outputId": "cb3606e6-2c66-4e7b-f288-a92a9a4ef747"
   },
   "outputs": [],
   "source": [
    "plt.plot(np.linspace(0, 1, sample_size), out_samples[42])"
   ]
  },
  {
   "cell_type": "code",
   "execution_count": null,
   "metadata": {
    "colab": {},
    "colab_type": "code",
    "id": "vRVc-QaLedMy"
   },
   "outputs": [],
   "source": [
    "x = np.concatenate((in_samples, out_samples))\n",
    "y = np.concatenate((np.zeros(in_distribution_size), np.ones(out_distribution_size)))"
   ]
  },
  {
   "cell_type": "code",
   "execution_count": null,
   "metadata": {
    "colab": {},
    "colab_type": "code",
    "id": "HpQypspFem-x"
   },
   "outputs": [],
   "source": [
    "x_train, x_test, y_train, y_test = train_test_split(x, y, test_size=0.2,\n",
    "                                                    shuffle=True, random_state=42)"
   ]
  },
  {
   "cell_type": "code",
   "execution_count": null,
   "metadata": {
    "colab": {},
    "colab_type": "code",
    "id": "5Nyzjujxkkni"
   },
   "outputs": [],
   "source": [
    "x_val_out = generate_out_samples(val_size, sample_size)\n",
    "x_val_in = generate_in_samples(val_size, sample_size)\n",
    "x_val = np.concatenate((x_val_out, x_val_in))\n",
    "y_val = np.concatenate((np.ones(val_size), np.zeros(val_size)))"
   ]
  },
  {
   "cell_type": "markdown",
   "metadata": {
    "colab_type": "text",
    "id": "LRCEyJcVeVGz"
   },
   "source": [
    "# models"
   ]
  },
  {
   "cell_type": "code",
   "execution_count": null,
   "metadata": {
    "colab": {},
    "colab_type": "code",
    "id": "Msz-m01nfnU2"
   },
   "outputs": [],
   "source": [
    "from sklearn.model_selection import GridSearchCV\n",
    "from sklearn.metrics import classification_report\n",
    "from sklearn.metrics import f1_score"
   ]
  },
  {
   "cell_type": "markdown",
   "metadata": {
    "colab_type": "text",
    "id": "nScO7W3EeZyk"
   },
   "source": [
    "## one-class svm"
   ]
  },
  {
   "cell_type": "code",
   "execution_count": null,
   "metadata": {
    "colab": {},
    "colab_type": "code",
    "id": "jUGaoTDCeOdD"
   },
   "outputs": [],
   "source": [
    "from sklearn.svm import OneClassSVM"
   ]
  },
  {
   "cell_type": "code",
   "execution_count": null,
   "metadata": {
    "colab": {},
    "colab_type": "code",
    "id": "T6bj7sIcfRxd"
   },
   "outputs": [],
   "source": [
    "out_dist_part = out_distribution_size / (out_distribution_size + in_distribution_size)\n",
    "svm = OneClassSVM(nu=out_dist_part)"
   ]
  },
  {
   "cell_type": "code",
   "execution_count": null,
   "metadata": {
    "colab": {
     "base_uri": "https://localhost:8080/",
     "height": 68
    },
    "colab_type": "code",
    "id": "UHLulyTHfecp",
    "outputId": "7f98f2b5-ab13-4bf2-ce5d-4d96cea4b5bd"
   },
   "outputs": [],
   "source": [
    "svm.fit(x_train, y_train)"
   ]
  },
  {
   "cell_type": "code",
   "execution_count": null,
   "metadata": {
    "colab": {},
    "colab_type": "code",
    "id": "x5JGfIb5fgQy"
   },
   "outputs": [],
   "source": [
    "svm_prediction = svm.predict(x_val)\n",
    "svm_prediction[svm_prediction == 1] = 0\n",
    "svm_prediction[svm_prediction == -1] = 1"
   ]
  },
  {
   "cell_type": "code",
   "execution_count": null,
   "metadata": {
    "colab": {
     "base_uri": "https://localhost:8080/",
     "height": 170
    },
    "colab_type": "code",
    "id": "ujBiSlTXfzqw",
    "outputId": "bd87569c-a20b-4435-b828-2910b6b985f6"
   },
   "outputs": [],
   "source": [
    "print(classification_report(y_val, svm_prediction))"
   ]
  },
  {
   "cell_type": "code",
   "execution_count": null,
   "metadata": {
    "colab": {},
    "colab_type": "code",
    "id": "22ZGH9yphf2u"
   },
   "outputs": [],
   "source": [
    "def svc_score(model, x, y):\n",
    "  prediction = model.predict(x)\n",
    "  prediction[prediction == 1] = 0\n",
    "  prediction[prediction == -1] = 1\n",
    "\n",
    "  score = f1_score(y, prediction)\n",
    "  return score"
   ]
  },
  {
   "cell_type": "code",
   "execution_count": null,
   "metadata": {
    "colab": {
     "base_uri": "https://localhost:8080/",
     "height": 204
    },
    "colab_type": "code",
    "id": "uBV5stvgf2jh",
    "outputId": "b5efec46-fa9a-4bb7-b14f-24cd28823c45"
   },
   "outputs": [],
   "source": [
    "svm_parameters = {\n",
    "    \"kernel\": [\"linear\", \"poly\", \"rbf\", \"sigmoid\"],\n",
    "    \"tol\": [1e-4],\n",
    "    \"nu\": [out_dist_part],\n",
    "    \"shrinking\": [True]\n",
    "}\n",
    "svc_clf = GridSearchCV(OneClassSVM(), svm_parameters, scoring=svc_score, n_jobs=-1)\n",
    "svc_clf.fit(x_train, y_train)"
   ]
  },
  {
   "cell_type": "code",
   "execution_count": null,
   "metadata": {
    "colab": {
     "base_uri": "https://localhost:8080/",
     "height": 34
    },
    "colab_type": "code",
    "id": "utsnI-LQkliI",
    "outputId": "9418dcfa-96f5-4b28-a7a3-fc3b9444537e"
   },
   "outputs": [],
   "source": [
    "svc_clf.best_params_"
   ]
  },
  {
   "cell_type": "code",
   "execution_count": null,
   "metadata": {
    "colab": {
     "base_uri": "https://localhost:8080/",
     "height": 170
    },
    "colab_type": "code",
    "id": "ew4a0fKOg9hk",
    "outputId": "714009f1-6a2e-43af-a9d7-b07ad08cbc91"
   },
   "outputs": [],
   "source": [
    "best_svc = svc_clf.best_estimator_\n",
    "\n",
    "svm_prediction = best_svc.predict(x_val)\n",
    "svm_prediction[svm_prediction == 1] = 0\n",
    "svm_prediction[svm_prediction == -1] = 1\n",
    "\n",
    "print(classification_report(y_val, svm_prediction))"
   ]
  },
  {
   "cell_type": "markdown",
   "metadata": {
    "colab_type": "text",
    "id": "NxCLKU1akvs5"
   },
   "source": [
    "## isolation forest"
   ]
  },
  {
   "cell_type": "code",
   "execution_count": null,
   "metadata": {
    "colab": {},
    "colab_type": "code",
    "id": "aiVP-sMOkLmg"
   },
   "outputs": [],
   "source": [
    "from sklearn.ensemble import IsolationForest"
   ]
  },
  {
   "cell_type": "code",
   "execution_count": null,
   "metadata": {
    "colab": {},
    "colab_type": "code",
    "id": "pYgJwtQ5lARN"
   },
   "outputs": [],
   "source": [
    "out_dist_part = out_distribution_size / (out_distribution_size + in_distribution_size)"
   ]
  },
  {
   "cell_type": "code",
   "execution_count": null,
   "metadata": {
    "colab": {
     "base_uri": "https://localhost:8080/",
     "height": 85
    },
    "colab_type": "code",
    "id": "ZqW3NHG0k20W",
    "outputId": "f764bac9-9c3b-47c4-e777-f79711760a39"
   },
   "outputs": [],
   "source": [
    "iso_forest = IsolationForest(n_estimators=100, contamination=out_dist_part, max_features=100, n_jobs=-1)\n",
    "iso_forest.fit(x_train)"
   ]
  },
  {
   "cell_type": "code",
   "execution_count": null,
   "metadata": {
    "colab": {
     "base_uri": "https://localhost:8080/",
     "height": 170
    },
    "colab_type": "code",
    "id": "iHP-thaslBqx",
    "outputId": "a6141e8e-6e7b-4e69-cc0e-6ac9645e3309"
   },
   "outputs": [],
   "source": [
    "iso_forest_prediction = iso_forest.predict(x_val)\n",
    "iso_forest_prediction[iso_forest_prediction == 1] = 0\n",
    "iso_forest_prediction[iso_forest_prediction == -1] = 1\n",
    "\n",
    "print(classification_report(y_val, iso_forest_prediction))"
   ]
  },
  {
   "cell_type": "markdown",
   "metadata": {
    "colab_type": "text",
    "id": "ifnXvT9PlRWD"
   },
   "source": [
    "## random forest classifier"
   ]
  },
  {
   "cell_type": "code",
   "execution_count": null,
   "metadata": {
    "colab": {},
    "colab_type": "code",
    "id": "G2xK2DwClPMc"
   },
   "outputs": [],
   "source": [
    "from sklearn.ensemble import RandomForestClassifier"
   ]
  },
  {
   "cell_type": "code",
   "execution_count": null,
   "metadata": {
    "colab": {
     "base_uri": "https://localhost:8080/",
     "height": 153
    },
    "colab_type": "code",
    "id": "UpNW0QnblX8c",
    "outputId": "92068f0d-4fac-4423-a63a-654ea0c53d82"
   },
   "outputs": [],
   "source": [
    "random_forest = RandomForestClassifier(n_estimators=100, max_features=100, n_jobs=-1)\n",
    "random_forest.fit(x_train, y_train)"
   ]
  },
  {
   "cell_type": "code",
   "execution_count": null,
   "metadata": {
    "colab": {
     "base_uri": "https://localhost:8080/",
     "height": 170
    },
    "colab_type": "code",
    "id": "tmcqqwqpldPE",
    "outputId": "951414d9-7712-49fc-e7f3-0cbcd98a127f"
   },
   "outputs": [],
   "source": [
    "random_forest_prediction = random_forest.predict(x_val)\n",
    "print(classification_report(y_val, random_forest_prediction))"
   ]
  },
  {
   "cell_type": "markdown",
   "metadata": {
    "colab_type": "text",
    "id": "-eww2zucl5tI"
   },
   "source": [
    "## reconstruction models"
   ]
  },
  {
   "cell_type": "code",
   "execution_count": null,
   "metadata": {
    "colab": {},
    "colab_type": "code",
    "id": "iI1Jq7LuvOHJ"
   },
   "outputs": [],
   "source": [
    "import torch\n",
    "from torch import nn\n",
    "from torch.utils.data import TensorDataset, DataLoader\n",
    "from torch.optim import Adam"
   ]
  },
  {
   "cell_type": "code",
   "execution_count": null,
   "metadata": {
    "colab": {},
    "colab_type": "code",
    "id": "Zd0MKFuo2n-F"
   },
   "outputs": [],
   "source": [
    "batch_size = 32\n",
    "lr = 1e-3"
   ]
  },
  {
   "cell_type": "code",
   "execution_count": null,
   "metadata": {
    "colab": {},
    "colab_type": "code",
    "id": "XtbB0PRgv_C9"
   },
   "outputs": [],
   "source": [
    "train_in_distribution = x_train[y_train == 0]\n",
    "train_in_distribution = torch.tensor(train_in_distribution.astype(np.float32))\n",
    "\n",
    "train_in_dataset = TensorDataset(train_in_distribution)\n",
    "train_in_loader = DataLoader(train_in_dataset, batch_size=batch_size, shuffle=True)\n",
    "\n",
    "test_dataset = TensorDataset(\n",
    "    torch.tensor(x_test.astype(np.float32)),\n",
    "    torch.tensor(y_test.astype(np.long))\n",
    ")\n",
    "test_loader = DataLoader(test_dataset, batch_size=batch_size, shuffle=False)\n",
    "\n",
    "val_dataset = TensorDataset(torch.tensor(x_val.astype(np.float32)))\n",
    "val_loader = DataLoader(val_dataset, batch_size=batch_size, shuffle=False)"
   ]
  },
  {
   "cell_type": "code",
   "execution_count": null,
   "metadata": {
    "colab": {},
    "colab_type": "code",
    "id": "LzBqEI6Mt7li"
   },
   "outputs": [],
   "source": [
    "class Autoencoder(nn.Module):\n",
    "  def __init__(self, input_size):\n",
    "    super(Autoencoder, self).__init__()\n",
    "    self.encoder = nn.Sequential(\n",
    "      nn.Linear(input_size, 128),\n",
    "      nn.LeakyReLU(0.2),\n",
    "      nn.Linear(128, 64),\n",
    "      nn.LeakyReLU(0.2),\n",
    "      nn.Linear(64, 16),\n",
    "      nn.LeakyReLU(0.2),\n",
    "      nn.Linear(16, 4),\n",
    "      nn.LeakyReLU(0.2),\n",
    "    )\n",
    "    self.decoder = nn.Sequential(\n",
    "      nn.Linear(4, 16),\n",
    "      nn.LeakyReLU(0.2),\n",
    "      nn.Linear(16, 64),\n",
    "      nn.LeakyReLU(0.2),\n",
    "      nn.Linear(64, 128),\n",
    "      nn.LeakyReLU(0.2),\n",
    "      nn.Linear(128, 256),\n",
    "      nn.LeakyReLU(0.2),\n",
    "    )\n",
    "\n",
    "  def forward(self, x):\n",
    "    x = self.encoder(x)\n",
    "    x = self.decoder(x)\n",
    "    return x"
   ]
  },
  {
   "cell_type": "code",
   "execution_count": null,
   "metadata": {
    "colab": {},
    "colab_type": "code",
    "id": "DfAz_4DhyG0Y"
   },
   "outputs": [],
   "source": [
    "model = Autoencoder(sample_size).cuda()\n",
    "criterion = nn.MSELoss()\n",
    "per_sample_criterion = nn.MSELoss(reduction=\"none\")\n",
    "optimizer = Adam(model.parameters(), lr=lr, weight_decay=1e-5)"
   ]
  },
  {
   "cell_type": "code",
   "execution_count": null,
   "metadata": {
    "colab": {},
    "colab_type": "code",
    "id": "wALDL_uizfXo"
   },
   "outputs": [],
   "source": [
    "def save_score_distribution(model, data_loader, criterion, save_to, figsize=(8, 6)):\n",
    "  losses = []\n",
    "  labels = []\n",
    "  for (x_batch, y_batch) in data_loader:\n",
    "    x_batch = x_batch.cuda()\n",
    "    \n",
    "    output = model(x_batch)\n",
    "    loss = criterion(output, x_batch)\n",
    "    \n",
    "    loss = torch.mean(loss, dim=1)\n",
    "    loss = loss.detach().cpu().numpy().flatten()\n",
    "    losses.append(loss)\n",
    "    \n",
    "    labels.append(y_batch.detach().cpu().numpy().flatten())\n",
    "  \n",
    "  losses = np.concatenate(losses)\n",
    "  labels = np.concatenate(labels)\n",
    "  \n",
    "  losses_0 = losses[labels == 0]\n",
    "  losses_1 = losses[labels == 1]\n",
    "\n",
    "  fig, ax = plt.subplots(1, figsize=figsize)\n",
    "\n",
    "  ax.boxplot([losses_0, losses_1])\n",
    "  ax.set_xticklabels(['normal', 'anomaly'])\n",
    "\n",
    "  plt.savefig(save_to)\n",
    "  plt.close(fig)"
   ]
  },
  {
   "cell_type": "code",
   "execution_count": null,
   "metadata": {
    "colab": {},
    "colab_type": "code",
    "id": "BxEeLbci4tXy"
   },
   "outputs": [],
   "source": [
    "save_score_distribution(model, test_loader, per_sample_criterion, \"1.jpg\")"
   ]
  },
  {
   "cell_type": "code",
   "execution_count": null,
   "metadata": {
    "colab": {},
    "colab_type": "code",
    "id": "lP68INrl4cxp"
   },
   "outputs": [],
   "source": [
    "experiment_path = \"ood_detection\"\n",
    "!rm -rf $experiment_path\n",
    "os.makedirs(experiment_path, exist_ok=True)"
   ]
  },
  {
   "cell_type": "code",
   "execution_count": null,
   "metadata": {
    "colab": {},
    "colab_type": "code",
    "id": "k5tRZ7fB9HbM"
   },
   "outputs": [],
   "source": [
    "epochs = 100"
   ]
  },
  {
   "cell_type": "code",
   "execution_count": null,
   "metadata": {
    "colab": {
     "base_uri": "https://localhost:8080/",
     "height": 1000
    },
    "colab_type": "code",
    "id": "g7Mi0NYYyYsi",
    "outputId": "bd2794c0-b073-4c6d-9b5e-3f873bd7c411"
   },
   "outputs": [],
   "source": [
    "for epoch in range(epochs):\n",
    "  running_loss = 0\n",
    "  for (x_batch, ) in train_in_loader:\n",
    "    x_batch = x_batch.cuda()\n",
    "    \n",
    "    output = model(x_batch)\n",
    "    loss = criterion(output, x_batch)\n",
    "    \n",
    "    optimizer.zero_grad()\n",
    "    loss.backward()\n",
    "    optimizer.step()\n",
    "\n",
    "    running_loss += loss.item()\n",
    "  \n",
    "  print(\"epoch [{}/{}], train loss:{:.4f}\".format(epoch+1, epochs, running_loss))\n",
    "  \n",
    "  plot_path = os.path.join(experiment_path, \"{}.jpg\".format(epoch+1))\n",
    "  save_score_distribution(model, test_loader, per_sample_criterion, plot_path)"
   ]
  },
  {
   "cell_type": "code",
   "execution_count": null,
   "metadata": {
    "colab": {},
    "colab_type": "code",
    "id": "2StXpu99sEYj"
   },
   "outputs": [],
   "source": [
    "def get_prediction(model, x):\n",
    "  global batch_size\n",
    "\n",
    "  dataset = TensorDataset(torch.tensor(x.astype(np.float32)))\n",
    "  data_loader = DataLoader(dataset, batch_size=batch_size, shuffle=False)\n",
    "  \n",
    "  predictions = []\n",
    "  for batch in data_loader:\n",
    "    x_batch = batch[0].cuda()\n",
    "    pred = model(x_batch)\n",
    "    predictions.append(pred.detach().cpu().numpy())\n",
    "  \n",
    "  predictions = np.concatenate(predictions)\n",
    "  return predictions"
   ]
  },
  {
   "cell_type": "code",
   "execution_count": null,
   "metadata": {
    "colab": {},
    "colab_type": "code",
    "id": "maec-x-XsbTV"
   },
   "outputs": [],
   "source": [
    "def compare_data(xs, sample_num, data_range=(0, 1), labels=None):\n",
    "  fig, axes = plt.subplots(len(xs))\n",
    "  sample_size = len(xs[0][sample_num])\n",
    "  \n",
    "  for i in range(len(xs)):\n",
    "    axes[i].plot(np.linspace(*data_range, sample_size), xs[i][sample_num])\n",
    "  \n",
    "  if labels:\n",
    "    for i, label in enumerate(labels):\n",
    "      axes[i].set_ylabel(label)"
   ]
  },
  {
   "cell_type": "code",
   "execution_count": null,
   "metadata": {
    "colab": {},
    "colab_type": "code",
    "id": "OFqxepUrsXX4"
   },
   "outputs": [],
   "source": [
    "x_test_pred = get_prediction(model, x_test)"
   ]
  },
  {
   "cell_type": "code",
   "execution_count": null,
   "metadata": {
    "colab": {
     "base_uri": "https://localhost:8080/",
     "height": 265
    },
    "colab_type": "code",
    "id": "nvEuYp2TtLxO",
    "outputId": "31a6cde2-3fd0-4e85-812d-8486e8f5ffe8"
   },
   "outputs": [],
   "source": [
    "compare_data([x_test[y_test == 0], x_test_pred[y_test == 0]], 10, labels=[\"real\", \"encoded\"])"
   ]
  },
  {
   "cell_type": "code",
   "execution_count": null,
   "metadata": {
    "colab": {
     "base_uri": "https://localhost:8080/",
     "height": 265
    },
    "colab_type": "code",
    "id": "YvCaANSabpTH",
    "outputId": "cdd2e01b-47e9-4ec9-844f-2123952079f2"
   },
   "outputs": [],
   "source": [
    "compare_data([x_test[y_test == 1], x_test_pred[y_test == 1]], 10, labels=[\"real\", \"encoded\"])"
   ]
  },
  {
   "cell_type": "markdown",
   "metadata": {
    "colab_type": "text",
    "id": "SmI89KtngbIh"
   },
   "source": [
    "### embeddings"
   ]
  },
  {
   "cell_type": "code",
   "execution_count": null,
   "metadata": {
    "colab": {},
    "colab_type": "code",
    "id": "0JpKG5OMvLrB"
   },
   "outputs": [],
   "source": [
    "def get_embedding(model, data_loader):\n",
    "  x_emb = []\n",
    "  for batch in data_loader:\n",
    "    x_batch = batch[0].cuda()\n",
    "\n",
    "    encoded_batch = model.encoder(x_batch)\n",
    "    encoded_batch = encoded_batch.detach().cpu().numpy()\n",
    "    \n",
    "    x_emb.append(encoded_batch)\n",
    "\n",
    "  x_emb = np.concatenate(x_emb)\n",
    "  return x_emb"
   ]
  },
  {
   "cell_type": "code",
   "execution_count": null,
   "metadata": {
    "colab": {},
    "colab_type": "code",
    "id": "7jWIHWK-vnqo"
   },
   "outputs": [],
   "source": [
    "x_test_encoded = get_embedding(model, test_loader)"
   ]
  },
  {
   "cell_type": "code",
   "execution_count": null,
   "metadata": {
    "colab": {
     "base_uri": "https://localhost:8080/",
     "height": 34
    },
    "colab_type": "code",
    "id": "c5A4s8z2-qVn",
    "outputId": "93b3ceee-8f62-4b9c-c4a6-7fe144b757aa"
   },
   "outputs": [],
   "source": [
    "x_test_encoded.shape"
   ]
  },
  {
   "cell_type": "code",
   "execution_count": null,
   "metadata": {
    "colab": {
     "base_uri": "https://localhost:8080/",
     "height": 282
    },
    "colab_type": "code",
    "id": "ppoMH4EsE_RS",
    "outputId": "76380919-57d8-44c2-895b-1ac73cb7c58d"
   },
   "outputs": [],
   "source": [
    "plt.imshow(x_test_encoded[:20])"
   ]
  },
  {
   "cell_type": "code",
   "execution_count": null,
   "metadata": {
    "colab": {},
    "colab_type": "code",
    "id": "1ekEADxKu8He"
   },
   "outputs": [],
   "source": [
    "from sklearn.ensemble import RandomForestClassifier"
   ]
  },
  {
   "cell_type": "code",
   "execution_count": null,
   "metadata": {
    "colab": {
     "base_uri": "https://localhost:8080/",
     "height": 153
    },
    "colab_type": "code",
    "id": "R1hRrvZIvAKY",
    "outputId": "a4dea835-5094-4322-f754-6f3155d805da"
   },
   "outputs": [],
   "source": [
    "embeddings_forest = RandomForestClassifier()\n",
    "embeddings_forest.fit(x_test_encoded, y_test)"
   ]
  },
  {
   "cell_type": "code",
   "execution_count": null,
   "metadata": {
    "colab": {},
    "colab_type": "code",
    "id": "4NnVy4CNvJLC"
   },
   "outputs": [],
   "source": [
    "val_embeddings = get_embedding(model, val_loader)"
   ]
  },
  {
   "cell_type": "code",
   "execution_count": null,
   "metadata": {
    "colab": {
     "base_uri": "https://localhost:8080/",
     "height": 282
    },
    "colab_type": "code",
    "id": "K7jCvUUmv8v5",
    "outputId": "69d2a960-ff8b-44a0-ace7-82553d7a59b8"
   },
   "outputs": [],
   "source": [
    "plt.imshow(val_embeddings[:20])"
   ]
  },
  {
   "cell_type": "code",
   "execution_count": null,
   "metadata": {
    "colab": {
     "base_uri": "https://localhost:8080/",
     "height": 170
    },
    "colab_type": "code",
    "id": "eZanA8o5v-zq",
    "outputId": "6cba7bec-339a-4cc2-e5a7-a76d6af50776"
   },
   "outputs": [],
   "source": [
    "val_prediction = embeddings_forest.predict(val_embeddings)\n",
    "print(val_prediction)"
   ]
  },
  {
   "cell_type": "code",
   "execution_count": null,
   "metadata": {
    "colab": {
     "base_uri": "https://localhost:8080/",
     "height": 170
    },
    "colab_type": "code",
    "id": "oAOKdtFJqt1N",
    "outputId": "b409c55e-c7da-4562-d6c1-b51e99e0c739"
   },
   "outputs": [],
   "source": [
    "print(classification_report(y_val, val_prediction))"
   ]
  },
  {
   "cell_type": "markdown",
   "metadata": {
    "colab_type": "text",
    "id": "Fr2vK-H_gt2P"
   },
   "source": [
    "### difference score"
   ]
  },
  {
   "cell_type": "code",
   "execution_count": null,
   "metadata": {
    "colab": {},
    "colab_type": "code",
    "id": "fQuMoyF3wV9R"
   },
   "outputs": [],
   "source": [
    "def get_difference_score(model, x):\n",
    "  global batch_size\n",
    "\n",
    "  dataset = TensorDataset(torch.tensor(x.astype(np.float32)))\n",
    "  data_loader = DataLoader(dataset, batch_size=batch_size, shuffle=False)\n",
    "\n",
    "  predictions = []\n",
    "  for (x_batch, ) in data_loader:\n",
    "    x_batch = x_batch.cuda()\n",
    "    preds = model(x_batch)\n",
    "    predictions.append(preds.detach().cpu().numpy())\n",
    "  \n",
    "  predictions = np.concatenate(predictions)\n",
    "\n",
    "  return (x - predictions)"
   ]
  },
  {
   "cell_type": "code",
   "execution_count": null,
   "metadata": {
    "colab": {},
    "colab_type": "code",
    "id": "LXoExrrdxfbv"
   },
   "outputs": [],
   "source": [
    "from sklearn.ensemble import RandomForestClassifier"
   ]
  },
  {
   "cell_type": "code",
   "execution_count": null,
   "metadata": {
    "colab": {},
    "colab_type": "code",
    "id": "fuLdKNdtxWoP"
   },
   "outputs": [],
   "source": [
    "test_score = get_difference_score(model, x_test)"
   ]
  },
  {
   "cell_type": "code",
   "execution_count": null,
   "metadata": {
    "colab": {
     "base_uri": "https://localhost:8080/",
     "height": 153
    },
    "colab_type": "code",
    "id": "kJCMhuuLxhaG",
    "outputId": "cc60c7a0-bbf9-49a5-90b1-2d2f699d7ff8"
   },
   "outputs": [],
   "source": [
    "score_forest = RandomForestClassifier(max_features=100)\n",
    "score_forest.fit(test_score, y_test)"
   ]
  },
  {
   "cell_type": "code",
   "execution_count": null,
   "metadata": {
    "colab": {
     "base_uri": "https://localhost:8080/",
     "height": 170
    },
    "colab_type": "code",
    "id": "u_SHTxTvxk-N",
    "outputId": "c80aca0b-2282-402f-ef12-96f27c1f211f"
   },
   "outputs": [],
   "source": [
    "val_score = get_difference_score(model, x_val)\n",
    "prediction = score_forest.predict(val_score)\n",
    "print(classification_report(y_val, prediction))"
   ]
  },
  {
   "cell_type": "code",
   "execution_count": null,
   "metadata": {
    "colab": {},
    "colab_type": "code",
    "id": "YnUBjRSmxpf0"
   },
   "outputs": [],
   "source": [
    "indices = np.arange(len(prediction))\n",
    "wrong_indices = indices[(prediction == 0) & (y_val == 1)]"
   ]
  },
  {
   "cell_type": "code",
   "execution_count": null,
   "metadata": {
    "colab": {},
    "colab_type": "code",
    "id": "M15rYFe4hXRI"
   },
   "outputs": [],
   "source": [
    "x_val_pred = get_prediction(model, x_val)"
   ]
  },
  {
   "cell_type": "code",
   "execution_count": null,
   "metadata": {
    "colab": {
     "base_uri": "https://localhost:8080/",
     "height": 265
    },
    "colab_type": "code",
    "id": "DLSXMN-P2A5s",
    "outputId": "65200284-7053-4210-c930-7b791566afa5"
   },
   "outputs": [],
   "source": [
    "compare_data([x_val, x_val_pred], wrong_indices[0])"
   ]
  },
  {
   "cell_type": "code",
   "execution_count": null,
   "metadata": {
    "colab": {
     "base_uri": "https://localhost:8080/",
     "height": 109
    },
    "colab_type": "code",
    "id": "mwNxHW2A2uQx",
    "outputId": "e034882e-a8e0-431e-b12c-9d8fdd1d464f"
   },
   "outputs": [],
   "source": [
    "plt.imshow(val_score[wrong_indices], norm=Normalize(0, 1, clip=True))"
   ]
  },
  {
   "cell_type": "code",
   "execution_count": null,
   "metadata": {
    "colab": {
     "base_uri": "https://localhost:8080/",
     "height": 158
    },
    "colab_type": "code",
    "id": "84TpFgQa25OK",
    "outputId": "fb86e1b2-f859-443e-8f13-986f78696e84"
   },
   "outputs": [],
   "source": [
    "plt.imshow(val_score[(prediction == 1) & (y_val == 1)], norm=Normalize(0, 1, clip=True))"
   ]
  },
  {
   "cell_type": "code",
   "execution_count": null,
   "metadata": {
    "colab": {
     "base_uri": "https://localhost:8080/",
     "height": 199
    },
    "colab_type": "code",
    "id": "_x5qYZdY3GgN",
    "outputId": "bd240513-c740-4fe3-e723-f3059d27f59b"
   },
   "outputs": [],
   "source": [
    "plt.imshow(val_score[(prediction == 0) & (y_val == 0)], norm=Normalize(0, 1, clip=True))"
   ]
  },
  {
   "cell_type": "markdown",
   "metadata": {
    "colab_type": "text",
    "id": "1ft2NknehslX"
   },
   "source": [
    "#### difference histograms"
   ]
  },
  {
   "cell_type": "code",
   "execution_count": null,
   "metadata": {
    "colab": {
     "base_uri": "https://localhost:8080/",
     "height": 34
    },
    "colab_type": "code",
    "id": "2auFkFl8h2Mp",
    "outputId": "0a17e918-855d-4903-83bf-81f7cc60c336"
   },
   "outputs": [],
   "source": [
    "print(\"test score: [{}; {}]\".format(test_score.min(), test_score.max()))"
   ]
  },
  {
   "cell_type": "code",
   "execution_count": null,
   "metadata": {
    "colab": {},
    "colab_type": "code",
    "id": "CvpefCl0i6ov"
   },
   "outputs": [],
   "source": [
    "def score_to_histograms(scores, bins=10, data_range=(-0.3, 0.3)):\n",
    "  result_histograms = np.zeros((len(scores), bins))\n",
    "\n",
    "  for i in range(len(scores)):\n",
    "    hist, bins = np.histogram(scores[i], bins=bins, range=data_range)\n",
    "    result_histograms[i] = hist\n",
    "  \n",
    "  return result_histograms"
   ]
  },
  {
   "cell_type": "code",
   "execution_count": null,
   "metadata": {
    "colab": {},
    "colab_type": "code",
    "id": "_re7lRTN3VXg"
   },
   "outputs": [],
   "source": [
    "test_histogram = score_to_histograms(test_score, bins=10, data_range=(-0.3, 0.3))\n",
    "val_histogram = score_to_histograms(val_score, bins=10, data_range=(-0.3, 0.3))"
   ]
  },
  {
   "cell_type": "code",
   "execution_count": null,
   "metadata": {
    "colab": {
     "base_uri": "https://localhost:8080/",
     "height": 298
    },
    "colab_type": "code",
    "id": "XL1alpbGixNg",
    "outputId": "c14c97a2-29d2-4953-f61c-d9bb12d695dd"
   },
   "outputs": [],
   "source": [
    "plt.title(\"normal histogram\")\n",
    "plt.bar(np.linspace(-0.5, 0.5, 10), test_histogram[y_test == 0][0])"
   ]
  },
  {
   "cell_type": "code",
   "execution_count": null,
   "metadata": {
    "colab": {
     "base_uri": "https://localhost:8080/",
     "height": 298
    },
    "colab_type": "code",
    "id": "Yu_31CFaoAxX",
    "outputId": "0b9d6831-c7b2-4d8b-9efe-6d623441e9b1"
   },
   "outputs": [],
   "source": [
    "plt.title(\"anomaly histogram\")\n",
    "plt.bar(np.linspace(-0.5, 0.5, 10), test_histogram[y_test == 1][0])"
   ]
  },
  {
   "cell_type": "code",
   "execution_count": null,
   "metadata": {
    "colab": {
     "base_uri": "https://localhost:8080/",
     "height": 153
    },
    "colab_type": "code",
    "id": "Mn2YHlqtjyRO",
    "outputId": "c69903a7-6126-4d53-c6e0-ed455dda1dee"
   },
   "outputs": [],
   "source": [
    "histogram_forest = RandomForestClassifier(n_estimators=10)\n",
    "histogram_forest.fit(test_histogram, y_test)"
   ]
  },
  {
   "cell_type": "code",
   "execution_count": null,
   "metadata": {
    "colab": {
     "base_uri": "https://localhost:8080/",
     "height": 170
    },
    "colab_type": "code",
    "id": "ZdlcntROrozp",
    "outputId": "4a732ca2-5a8b-46d6-f705-05f4a4c2afb3"
   },
   "outputs": [],
   "source": [
    "val_prediction = histogram_forest.predict(val_histogram)\n",
    "print(val_prediction)"
   ]
  },
  {
   "cell_type": "code",
   "execution_count": null,
   "metadata": {
    "colab": {
     "base_uri": "https://localhost:8080/",
     "height": 170
    },
    "colab_type": "code",
    "id": "gzKYizIfkCiL",
    "outputId": "fc0309cd-cc2d-4489-9dbb-46376775d0fe"
   },
   "outputs": [],
   "source": [
    "print(classification_report(y_val, val_prediction))"
   ]
  },
  {
   "cell_type": "code",
   "execution_count": null,
   "metadata": {
    "colab": {},
    "colab_type": "code",
    "id": "RnwWaiehi_5y"
   },
   "outputs": [],
   "source": []
  }
 ],
 "metadata": {
  "accelerator": "GPU",
  "colab": {
   "collapsed_sections": [],
   "name": "ood_detection.ipynb",
   "provenance": [],
   "toc_visible": true
  },
  "kernelspec": {
   "display_name": "Python 3",
   "language": "python",
   "name": "python3"
  },
  "language_info": {
   "codemirror_mode": {
    "name": "ipython",
    "version": 3
   },
   "file_extension": ".py",
   "mimetype": "text/x-python",
   "name": "python",
   "nbconvert_exporter": "python",
   "pygments_lexer": "ipython3",
   "version": "3.7.6"
  }
 },
 "nbformat": 4,
 "nbformat_minor": 1
}
